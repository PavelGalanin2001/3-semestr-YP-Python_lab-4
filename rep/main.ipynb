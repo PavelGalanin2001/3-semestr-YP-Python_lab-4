{
 "cells": [
  {
   "cell_type": "markdown",
   "metadata": {},
   "source": [
    "# Лабораторная работа №4\n",
    "\n",
    "**Цель работы**: \"\".\n",
    "\n",
    "**Ход работы**:"
   ]
  },
  {
   "cell_type": "markdown",
   "metadata": {},
   "source": [
    "---\n",
    "\n",
    "## Задание 1\n",
    "\n",
    "1. Напишите программу для решения примера (по вариантам). Предусмотрите проверку деления на ноль. Все необходимые переменные пользователь вводит через консоль. Запись |пример| означает <<взять по модулю>>, т. е. если значение получится отрицательным, необходимо сменить знак с минуса на плюс.\n",
    "\n",
    "**Вариант 1**. $|{ {({a^2 \\over b^2} + c^2 \\cdot a^2)} \\over {(a + b + c \\cdot (k- {a \\over b^3}))} } + c + ({k \\over b} - {k \\over a}) \\cdot c|$"
   ]
  },
  {
   "cell_type": "code",
   "execution_count": 12,
   "metadata": {},
   "outputs": [
    {
     "name": "stdout",
     "output_type": "stream",
     "text": [
      "a = 0. Error: div on zero\n",
      "-1\n",
      "b = 0. Error: div on zero\n",
      "-1\n",
      "5.0\n"
     ]
    }
   ],
   "source": [
    "import math\n",
    "\n",
    "def task111(a, b, c, k):\n",
    "    if a == 0:\n",
    "        print(\"a = 0. Error: div on zero\")\n",
    "        return -1\n",
    "    elif b == 0:\n",
    "        print(\"b = 0. Error: div on zero\")\n",
    "        return -1\n",
    "    else:\n",
    "        part1 = math.pow(a, 2) / math.pow(b, 2) + math.pow(c, 2) * math.pow(a, 2)\n",
    "        part2 = a + b + c * (k - a / math.pow(b, 3))\n",
    "        part3 = c + (k/b - k/a) * c\n",
    "        result = part1 + part2 + part3\n",
    "        if result >= 0:\n",
    "            return result\n",
    "        else:\n",
    "            return -result\n",
    "\n",
    "print(task111(0,1,1,1))\n",
    "print(task111(1,0,1,1))\n",
    "print(task111(1,1,1,1))"
   ]
  },
  {
   "cell_type": "markdown",
   "metadata": {},
   "source": [
    "---\n",
    "\n",
    "## Задание 1\n",
    "\n",
    "2. Дан произвольный список, содержащий и строки и числа.\n",
    "\n",
    "**Вариант 1**. Выведите все четные элементы построчно."
   ]
  },
  {
   "cell_type": "code",
   "execution_count": 14,
   "metadata": {},
   "outputs": [
    {
     "name": "stdout",
     "output_type": "stream",
     "text": [
      "2\n",
      "5.3\n",
      "5555.3\n",
      "ergr\n",
      "efe\n"
     ]
    }
   ],
   "source": [
    "def task121(lst):\n",
    "    for i in range(len(lst)):\n",
    "        if (i + 1) % 2 == 0:\n",
    "            print(lst[i])\n",
    "            \n",
    "lst = ['33', 2, 4, 5.3, 2.4, 5555.3, '443', 'ergr', 'wee', 'efe']\n",
    "\n",
    "task121(lst)"
   ]
  },
  {
   "cell_type": "markdown",
   "metadata": {},
   "source": [
    "---\n",
    "\n",
    "## Задание 1\n",
    "\n",
    "3. Дан произвольный список, содержащий только числа.\n",
    "\n",
    "**Вариант 1**. Выведите результат сложения всех чисел больше 10."
   ]
  },
  {
   "cell_type": "code",
   "execution_count": 17,
   "metadata": {},
   "outputs": [
    {
     "name": "stdout",
     "output_type": "stream",
     "text": [
      "31\n"
     ]
    }
   ],
   "source": [
    "def task131(lst):\n",
    "    sum = 0\n",
    "    for i in range(len(lst)):\n",
    "        if lst[i] > 10:\n",
    "            sum += lst[i]\n",
    "    print(sum)\n",
    "    \n",
    "lst = [-10, 5, 6, 15, 3, 16, 7]\n",
    "\n",
    "task131(lst)"
   ]
  },
  {
   "cell_type": "markdown",
   "metadata": {},
   "source": [
    "---\n",
    "\n",
    "## Задание 1\n",
    "\n",
    "4. Дан произвольный список, содержащий только числа.\n",
    "\n",
    "**Вариант 1**. Выведите максимальное число."
   ]
  },
  {
   "cell_type": "code",
   "execution_count": 18,
   "metadata": {},
   "outputs": [
    {
     "name": "stdout",
     "output_type": "stream",
     "text": [
      "55\n"
     ]
    }
   ],
   "source": [
    "def task141(lst):\n",
    "    max = lst[0]\n",
    "    for i in range(len(lst)):\n",
    "        if lst[i] > max:\n",
    "            max = lst[i]\n",
    "    print(max)\n",
    "    \n",
    "lst = [4, 7, 2, -100, 3, 55, 33, 6]\n",
    "\n",
    "task141(lst)"
   ]
  },
  {
   "cell_type": "markdown",
   "metadata": {},
   "source": [
    "Вывод: \"\"."
   ]
  }
 ],
 "metadata": {
  "kernelspec": {
   "display_name": "Python 3",
   "language": "python",
   "name": "python3"
  },
  "language_info": {
   "codemirror_mode": {
    "name": "ipython",
    "version": 3
   },
   "file_extension": ".py",
   "mimetype": "text/x-python",
   "name": "python",
   "nbconvert_exporter": "python",
   "pygments_lexer": "ipython3",
   "version": "3.8.5"
  }
 },
 "nbformat": 4,
 "nbformat_minor": 4
}

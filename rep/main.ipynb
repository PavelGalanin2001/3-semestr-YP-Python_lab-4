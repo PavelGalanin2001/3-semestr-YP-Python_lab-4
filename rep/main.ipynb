{
 "cells": [
  {
   "cell_type": "markdown",
   "metadata": {},
   "source": [
    "# Лабораторная работа №4\n",
    "\n",
    "**Цель работы**: \"\".\n",
    "\n",
    "**Ход работы**:"
   ]
  },
  {
   "cell_type": "markdown",
   "metadata": {},
   "source": [
    "---\n",
    "\n",
    "## Задание 1\n",
    "\n",
    "**Пункт 1**. Напишите программу для решения примера (по вариантам). Предусмотрите проверку деления на ноль. Все необходимые переменные пользователь вводит через консоль. Запись |пример| означает <<взять по модулю>>, т. е. если значение получится отрицательным, необходимо сменить знак с минуса на плюс.\n",
    "\n",
    "**Вариант 1**. $|{ {({a^2 \\over b^2} + c^2 \\cdot a^2)} \\over {(a + b + c \\cdot (k- {a \\over b^3}))} } + c + ({k \\over b} - {k \\over a}) \\cdot c|$"
   ]
  },
  {
   "cell_type": "code",
   "execution_count": 1,
   "metadata": {},
   "outputs": [
    {
     "name": "stdout",
     "output_type": "stream",
     "text": [
      "a = 0. Error: div on zero\n",
      "-1\n",
      "b = 0. Error: div on zero\n",
      "-1\n",
      "5.0\n"
     ]
    }
   ],
   "source": [
    "import math\n",
    "\n",
    "def task111(a, b, c, k):\n",
    "    if a == 0:\n",
    "        print(\"a = 0. Error: div on zero\")\n",
    "        return -1\n",
    "    elif b == 0:\n",
    "        print(\"b = 0. Error: div on zero\")\n",
    "        return -1\n",
    "    else:\n",
    "        part1 = math.pow(a, 2) / math.pow(b, 2) + math.pow(c, 2) * math.pow(a, 2)\n",
    "        part2 = a + b + c * (k - a / math.pow(b, 3))\n",
    "        part3 = c + (k/b - k/a) * c\n",
    "        result = part1 + part2 + part3\n",
    "        if result >= 0:\n",
    "            return result\n",
    "        else:\n",
    "            return -result\n",
    "\n",
    "print(task111(0,1,1,1))\n",
    "print(task111(1,0,1,1))\n",
    "print(task111(1,1,1,1))"
   ]
  },
  {
   "cell_type": "markdown",
   "metadata": {},
   "source": [
    "---\n",
    "\n",
    "## Задание 1\n",
    "\n",
    "**Пункт 2**. Дан произвольный список, содержащий и строки и числа.\n",
    "\n",
    "**Вариант 1**. Выведите все четные элементы построчно."
   ]
  },
  {
   "cell_type": "code",
   "execution_count": 2,
   "metadata": {},
   "outputs": [
    {
     "name": "stdout",
     "output_type": "stream",
     "text": [
      "2\n",
      "5.3\n",
      "5555.3\n",
      "ergr\n",
      "efe\n"
     ]
    }
   ],
   "source": [
    "def task121(lst):\n",
    "    for i in range(len(lst)):\n",
    "        if (i + 1) % 2 == 0:\n",
    "            print(lst[i])\n",
    "            \n",
    "lst = ['33', 2, 4, 5.3, 2.4, 5555.3, '443', 'ergr', 'wee', 'efe']\n",
    "\n",
    "task121(lst)"
   ]
  },
  {
   "cell_type": "markdown",
   "metadata": {},
   "source": [
    "---\n",
    "\n",
    "## Задание 1\n",
    "\n",
    "**Пункт 3**. Дан произвольный список, содержащий только числа.\n",
    "\n",
    "**Вариант 1**. Выведите результат сложения всех чисел больше 10."
   ]
  },
  {
   "cell_type": "code",
   "execution_count": 3,
   "metadata": {},
   "outputs": [
    {
     "name": "stdout",
     "output_type": "stream",
     "text": [
      "31\n"
     ]
    }
   ],
   "source": [
    "def task131(lst):\n",
    "    sum = 0\n",
    "    for i in range(len(lst)):\n",
    "        if lst[i] > 10:\n",
    "            sum += lst[i]\n",
    "    print(sum)\n",
    "    \n",
    "lst = [-10, 5, 6, 15, 3, 16, 7]\n",
    "\n",
    "task131(lst)"
   ]
  },
  {
   "cell_type": "markdown",
   "metadata": {},
   "source": [
    "---\n",
    "\n",
    "## Задание 1\n",
    "\n",
    "**Пункт 4**. Дан произвольный список, содержащий только числа.\n",
    "\n",
    "**Вариант 1**. Выведите максимальное число."
   ]
  },
  {
   "cell_type": "code",
   "execution_count": 4,
   "metadata": {},
   "outputs": [
    {
     "name": "stdout",
     "output_type": "stream",
     "text": [
      "55\n"
     ]
    }
   ],
   "source": [
    "def task141(lst):\n",
    "    max = lst[0]\n",
    "    for i in range(len(lst)):\n",
    "        if lst[i] > max:\n",
    "            max = lst[i]\n",
    "    print(max)\n",
    "    \n",
    "lst = [4, 7, 2, -100, 3, 55, 33, 6]\n",
    "\n",
    "task141(lst)"
   ]
  },
  {
   "cell_type": "markdown",
   "metadata": {},
   "source": [
    "---\n",
    "\n",
    "## Задание 2 <<Строки и списки>>\n",
    "\n",
    "**Пункт 1**. Пусть задано некоторое число my number. Пользователь вводит с клавиатуры свое число user_number.\n",
    "\n",
    "**Вариант 1**. Запрашивайте у пользователя вводить число user number до тех пор, пока оно не будет меньше my_number."
   ]
  },
  {
   "cell_type": "code",
   "execution_count": 5,
   "metadata": {},
   "outputs": [
    {
     "name": "stdout",
     "output_type": "stream",
     "text": [
      "user_number := 77\n",
      "user_number := 55\n",
      "user_number := 5\n",
      "user_number := 2\n"
     ]
    }
   ],
   "source": [
    "def task211():\n",
    "    my_number = 5\n",
    "    while 1:\n",
    "        user_number = int(input(\"user_number := \"))\n",
    "        if user_number < my_number:\n",
    "            break\n",
    "            \n",
    "task211()"
   ]
  },
  {
   "cell_type": "markdown",
   "metadata": {},
   "source": [
    "---\n",
    "\n",
    "## Задание 2 <<Строки и списки>>\n",
    "\n",
    "**Пункт 2**. Пусть задан список, содержащий строки.\n",
    "\n",
    "**Вариант 1**. Выведите построчно все строки размером от 5 до 10 символов."
   ]
  },
  {
   "cell_type": "code",
   "execution_count": 6,
   "metadata": {},
   "outputs": [
    {
     "name": "stdout",
     "output_type": "stream",
     "text": [
      "bbbbbb\n",
      "eeeeeeeee\n"
     ]
    }
   ],
   "source": [
    "def task221(lst):\n",
    "    for i in range(len(lst)):\n",
    "        length = len(lst[i])\n",
    "        if 5 < length and length < 10:\n",
    "            print(lst[i])\n",
    "            \n",
    "lst = [\n",
    "    'aaa',\n",
    "    'bbbbbb',\n",
    "    'ccccc',\n",
    "    'dddddddddd',\n",
    "    'eeeeeeeee'\n",
    "]\n",
    "\n",
    "task221(lst)"
   ]
  },
  {
   "cell_type": "markdown",
   "metadata": {},
   "source": [
    "---\n",
    "\n",
    "## Задание 2 <<Строки и списки>>\n",
    "\n",
    "**Пункт 3**. Сгенерируйте и выведите:\n",
    "\n",
    "**Вариант 1**. Случайную строку, состоящую из 5 символов, содержащую только заглавные буквы русского алфавита."
   ]
  },
  {
   "cell_type": "code",
   "execution_count": 7,
   "metadata": {},
   "outputs": [
    {
     "name": "stdout",
     "output_type": "stream",
     "text": [
      "XFGKP\n"
     ]
    }
   ],
   "source": [
    "import random\n",
    "\n",
    "def task231():\n",
    "    result = ''\n",
    "    for i in range(5):\n",
    "        number = random.randint(65, 90)\n",
    "        symbol = chr(number)\n",
    "        result += symbol\n",
    "    return result\n",
    "\n",
    "print(task231())"
   ]
  },
  {
   "cell_type": "markdown",
   "metadata": {},
   "source": [
    "---\n",
    "\n",
    "## Задание 2 <<Строки и списки>>\n",
    "\n",
    "**Пункт 4**. Пусть дана строка:\n",
    "\n",
    "**Вариант 1**. На основе данной строки сформируйте новую, содержащую только цифры. Выведите новую строку.\n"
   ]
  },
  {
   "cell_type": "code",
   "execution_count": 8,
   "metadata": {},
   "outputs": [
    {
     "name": "stdout",
     "output_type": "stream",
     "text": [
      "113119101114116121\n"
     ]
    }
   ],
   "source": [
    "def task241(string):\n",
    "    strWithNum = ''\n",
    "    for i in range(len(string)):\n",
    "        number = ord(string[i])\n",
    "        temp = str(number)\n",
    "        strWithNum += temp\n",
    "    return strWithNum\n",
    "        \n",
    "print(task241('qwerty'))"
   ]
  },
  {
   "cell_type": "markdown",
   "metadata": {},
   "source": [
    "---\n",
    "\n",
    "## Задание 3 <<Матрицы>>\n",
    "\n",
    "Пусть дана матрица:\n",
    "\n",
    "```\n",
    "1 2 3 4 5 6 7 8\n",
    "8 7 6 5 4 3 2 1\n",
    "2 3 4 5 6 7 8 9\n",
    "9 8 7 6 5 4 3 2\n",
    "1 3 5 7 9 7 5 3\n",
    "3 1 5 3 2 6 5 7\n",
    "1 7 5 9 7 3 1 5\n",
    "2 6 3 5 1 7 3 2\n",
    "```\n",
    "\n",
    "**Вариант №1**. Определите структуру для хранения матрицы.\n",
    "\n",
    "**Пункт 1**. Напишите функцию возведения всех элементов матрицы в квадрат.\n"
   ]
  },
  {
   "cell_type": "code",
   "execution_count": 9,
   "metadata": {},
   "outputs": [
    {
     "name": "stdout",
     "output_type": "stream",
     "text": [
      "[[1 2 3 4 5 6 7 8]\n",
      " [8 7 6 5 4 3 2 1]\n",
      " [2 3 4 5 6 7 8 9]\n",
      " [9 8 7 6 5 4 3 2]\n",
      " [1 3 5 7 9 7 5 3]\n",
      " [3 1 5 3 2 6 5 7]\n",
      " [1 7 5 9 7 3 1 5]\n",
      " [2 6 3 5 1 7 3 2]]\n",
      "[[ 1  4  9 16 25 36 49 64]\n",
      " [64 49 36 25 16  9  4  1]\n",
      " [ 4  9 16 25 36 49 64 81]\n",
      " [81 64 49 36 25 16  9  4]\n",
      " [ 1  9 25 49 81 49 25  9]\n",
      " [ 9  1 25  9  4 36 25 49]\n",
      " [ 1 49 25 81 49  9  1 25]\n",
      " [ 4 36  9 25  1 49  9  4]]\n"
     ]
    }
   ],
   "source": [
    "import math\n",
    "import numpy\n",
    "\n",
    "def task311(arr):\n",
    "    for i in range(len(arr)):\n",
    "        for j in range(len(arr[i])):\n",
    "            arr[i][j] = math.pow(arr[i][j], 2)\n",
    " \n",
    "arr = numpy.array([\n",
    "    [1, 2, 3, 4, 5, 6, 7, 8],\n",
    "    [8, 7, 6, 5, 4, 3, 2, 1],\n",
    "    [2, 3, 4, 5, 6, 7, 8, 9],\n",
    "    [9, 8, 7, 6, 5, 4, 3, 2],\n",
    "    [1, 3, 5, 7, 9, 7, 5, 3],\n",
    "    [3, 1, 5, 3, 2, 6, 5, 7],\n",
    "    [1, 7, 5, 9, 7, 3, 1, 5],\n",
    "    [2, 6, 3, 5, 1, 7, 3, 2]\n",
    "])\n",
    "\n",
    "print(arr)\n",
    "task311(arr)\n",
    "print(arr)\n"
   ]
  },
  {
   "cell_type": "markdown",
   "metadata": {},
   "source": [
    "---\n",
    "\n",
    "## Задание 3 <<Матрицы>>\n",
    "\n",
    "Пусть дана матрица:\n",
    "\n",
    "```\n",
    "1 2 3 4 5 6 7 8\n",
    "8 7 6 5 4 3 2 1\n",
    "2 3 4 5 6 7 8 9\n",
    "9 8 7 6 5 4 3 2\n",
    "1 3 5 7 9 7 5 3\n",
    "3 1 5 3 2 6 5 7\n",
    "1 7 5 9 7 3 1 5\n",
    "2 6 3 5 1 7 3 2\n",
    "```\n",
    "\n",
    "**Вариант №2**. Определите структуру для хранения матрицы.\n",
    "\n",
    "**Пункт 1.** Напишите функцию сложения по строкам.\n"
   ]
  },
  {
   "cell_type": "code",
   "execution_count": 10,
   "metadata": {},
   "outputs": [
    {
     "name": "stdout",
     "output_type": "stream",
     "text": [
      "   1\t   2\t   3\t   4\t   5\t   6\t   7\t   8\t36\n",
      "   8\t   7\t   6\t   5\t   4\t   3\t   2\t   1\t36\n",
      "   2\t   3\t   4\t   5\t   6\t   7\t   8\t   9\t44\n",
      "   9\t   8\t   7\t   6\t   5\t   4\t   3\t   2\t44\n",
      "   1\t   3\t   5\t   7\t   9\t   7\t   5\t   3\t40\n",
      "   3\t   1\t   5\t   3\t   2\t   6\t   5\t   7\t32\n",
      "   1\t   7\t   5\t   9\t   7\t   3\t   1\t   5\t38\n",
      "   2\t   6\t   3\t   5\t   1\t   7\t   3\t   2\t29\n"
     ]
    }
   ],
   "source": [
    "def task321(arr):\n",
    "    for i in range(len(arr)):\n",
    "        sum = 0\n",
    "        for j in range(len(arr[i])):\n",
    "            sum += arr[i][j]\n",
    "            print(\"%4d\\t\" % arr[i][j], end = '')\n",
    "        print(sum)\n",
    "        \n",
    "arr = [\n",
    "    [1, 2, 3, 4, 5, 6, 7, 8],\n",
    "    [8, 7, 6, 5, 4, 3, 2, 1],\n",
    "    [2, 3, 4, 5, 6, 7, 8, 9],\n",
    "    [9, 8, 7, 6, 5, 4, 3, 2],\n",
    "    [1, 3, 5, 7, 9, 7, 5, 3],\n",
    "    [3, 1, 5, 3, 2, 6, 5, 7],\n",
    "    [1, 7, 5, 9, 7, 3, 1, 5],\n",
    "    [2, 6, 3, 5, 1, 7, 3, 2]\n",
    "]\n",
    "\n",
    "task321(arr)"
   ]
  },
  {
   "cell_type": "markdown",
   "metadata": {},
   "source": [
    "---\n",
    "\n",
    "## Задание 3 <<Матрицы>>\n",
    "\n",
    "Пусть дана матрица:\n",
    "\n",
    "```\n",
    "1 2 3 4 5 6 7 8\n",
    "8 7 6 5 4 3 2 1\n",
    "2 3 4 5 6 7 8 9\n",
    "9 8 7 6 5 4 3 2\n",
    "1 3 5 7 9 7 5 3\n",
    "3 1 5 3 2 6 5 7\n",
    "1 7 5 9 7 3 1 5\n",
    "2 6 3 5 1 7 3 2\n",
    "```\n",
    "\n",
    "**Вариант №4**. Определите структуру для хранения матрицы.\n",
    "\n",
    "**Пункт 1.** Напишите функцию умножения по строкам.\n"
   ]
  },
  {
   "cell_type": "code",
   "execution_count": 11,
   "metadata": {},
   "outputs": [
    {
     "name": "stdout",
     "output_type": "stream",
     "text": [
      "   1\t   2\t   3\t   4\t   5\t   6\t   7\t   8\t40320\n",
      "   8\t   7\t   6\t   5\t   4\t   3\t   2\t   1\t40320\n",
      "   2\t   3\t   4\t   5\t   6\t   7\t   8\t   9\t362880\n",
      "   9\t   8\t   7\t   6\t   5\t   4\t   3\t   2\t362880\n",
      "   1\t   3\t   5\t   7\t   9\t   7\t   5\t   3\t99225\n",
      "   3\t   1\t   5\t   3\t   2\t   6\t   5\t   7\t18900\n",
      "   1\t   7\t   5\t   9\t   7\t   3\t   1\t   5\t33075\n",
      "   2\t   6\t   3\t   5\t   1\t   7\t   3\t   2\t7560\n"
     ]
    }
   ],
   "source": [
    "def task341(arr):\n",
    "    for i in range(len(arr)):\n",
    "        mult = 1\n",
    "        for j in range(len(arr[i])):\n",
    "            mult *= arr[i][j]\n",
    "            print(\"%4d\\t\" % arr[i][j], end = '')\n",
    "        print(mult)\n",
    "        \n",
    "arr = [\n",
    "    [1, 2, 3, 4, 5, 6, 7, 8],\n",
    "    [8, 7, 6, 5, 4, 3, 2, 1],\n",
    "    [2, 3, 4, 5, 6, 7, 8, 9],\n",
    "    [9, 8, 7, 6, 5, 4, 3, 2],\n",
    "    [1, 3, 5, 7, 9, 7, 5, 3],\n",
    "    [3, 1, 5, 3, 2, 6, 5, 7],\n",
    "    [1, 7, 5, 9, 7, 3, 1, 5],\n",
    "    [2, 6, 3, 5, 1, 7, 3, 2]\n",
    "]\n",
    "\n",
    "task341(arr)   "
   ]
  },
  {
   "cell_type": "markdown",
   "metadata": {},
   "source": [
    "---\n",
    "\n",
    "## Задание 3 <<Матрицы>>\n",
    "\n",
    "Пусть дана матрица:\n",
    "\n",
    "```\n",
    "1 2 3 4 5 6 7 8\n",
    "8 7 6 5 4 3 2 1\n",
    "2 3 4 5 6 7 8 9\n",
    "9 8 7 6 5 4 3 2\n",
    "1 3 5 7 9 7 5 3\n",
    "3 1 5 3 2 6 5 7\n",
    "1 7 5 9 7 3 1 5\n",
    "2 6 3 5 1 7 3 2\n",
    "```\n",
    "\n",
    "**Вариант №5**. Определите структуру для хранения матрицы.\n",
    "\n",
    "**Пункт 3**. Напишите функцию возведения всех чисел 5 в квадрат."
   ]
  },
  {
   "cell_type": "code",
   "execution_count": 12,
   "metadata": {},
   "outputs": [
    {
     "name": "stdout",
     "output_type": "stream",
     "text": [
      "[[1 2 3 4 5 6 7 8]\n",
      " [8 7 6 5 4 3 2 1]\n",
      " [2 3 4 5 6 7 8 9]\n",
      " [9 8 7 6 5 4 3 2]\n",
      " [1 3 5 7 9 7 5 3]\n",
      " [3 1 5 3 2 6 5 7]\n",
      " [1 7 5 9 7 3 1 5]\n",
      " [2 6 3 5 1 7 3 2]]\n",
      "[[ 1  2  3  4 25  6  7  8]\n",
      " [ 8  7  6 25  4  3  2  1]\n",
      " [ 2  3  4 25  6  7  8  9]\n",
      " [ 9  8  7  6 25  4  3  2]\n",
      " [ 1  3 25  7  9  7 25  3]\n",
      " [ 3  1 25  3  2  6 25  7]\n",
      " [ 1  7 25  9  7  3  1 25]\n",
      " [ 2  6  3 25  1  7  3  2]]\n"
     ]
    }
   ],
   "source": [
    "import numpy\n",
    "\n",
    "def task353(arr):\n",
    "    for i in range(len(arr)):\n",
    "        for j in range(len(arr[i])):\n",
    "            if arr[i][j] == 5:\n",
    "                arr[i][j] = 25\n",
    "                \n",
    "arr = numpy.array([\n",
    "    [1, 2, 3, 4, 5, 6, 7, 8],\n",
    "    [8, 7, 6, 5, 4, 3, 2, 1],\n",
    "    [2, 3, 4, 5, 6, 7, 8, 9],\n",
    "    [9, 8, 7, 6, 5, 4, 3, 2],\n",
    "    [1, 3, 5, 7, 9, 7, 5, 3],\n",
    "    [3, 1, 5, 3, 2, 6, 5, 7],\n",
    "    [1, 7, 5, 9, 7, 3, 1, 5],\n",
    "    [2, 6, 3, 5, 1, 7, 3, 2]\n",
    "])\n",
    "\n",
    "print(arr)\n",
    "task353(arr)\n",
    "print(arr)"
   ]
  },
  {
   "cell_type": "markdown",
   "metadata": {},
   "source": [
    "---\n",
    "\n",
    "## Задание 3 <<Матрицы>>\n",
    "\n",
    "Пусть дана матрица:\n",
    "\n",
    "```\n",
    "1 2 3 4 5 6 7 8\n",
    "8 7 6 5 4 3 2 1\n",
    "2 3 4 5 6 7 8 9\n",
    "9 8 7 6 5 4 3 2\n",
    "1 3 5 7 9 7 5 3\n",
    "3 1 5 3 2 6 5 7\n",
    "1 7 5 9 7 3 1 5\n",
    "2 6 3 5 1 7 3 2\n",
    "```\n",
    "\n",
    "**Вариант №6**. Определите структуру для хранения матрицы.\n",
    "\n",
    "**Пункт 3**. Напишите функцию очистки матрицы.\n"
   ]
  },
  {
   "cell_type": "code",
   "execution_count": 13,
   "metadata": {},
   "outputs": [
    {
     "name": "stdout",
     "output_type": "stream",
     "text": [
      "[[1 2 3 4 5 6 7 8]\n",
      " [8 7 6 5 4 3 2 1]\n",
      " [2 3 4 5 6 7 8 9]\n",
      " [9 8 7 6 5 4 3 2]\n",
      " [1 3 5 7 9 7 5 3]\n",
      " [3 1 5 3 2 6 5 7]\n",
      " [1 7 5 9 7 3 1 5]\n",
      " [2 6 3 5 1 7 3 2]]\n",
      "[[0 0 0 0 0 0 0 0]\n",
      " [0 0 0 0 0 0 0 0]\n",
      " [0 0 0 0 0 0 0 0]\n",
      " [0 0 0 0 0 0 0 0]\n",
      " [0 0 0 0 0 0 0 0]\n",
      " [0 0 0 0 0 0 0 0]\n",
      " [0 0 0 0 0 0 0 0]\n",
      " [0 0 0 0 0 0 0 0]]\n"
     ]
    }
   ],
   "source": [
    "import numpy\n",
    "\n",
    "def task363(arr):\n",
    "    for i in range(len(arr)):\n",
    "        for j in range(len(arr[i])):\n",
    "            arr[i][j] = 0\n",
    "            \n",
    "arr = numpy.array([\n",
    "    [1, 2, 3, 4, 5, 6, 7, 8],\n",
    "    [8, 7, 6, 5, 4, 3, 2, 1],\n",
    "    [2, 3, 4, 5, 6, 7, 8, 9],\n",
    "    [9, 8, 7, 6, 5, 4, 3, 2],\n",
    "    [1, 3, 5, 7, 9, 7, 5, 3],\n",
    "    [3, 1, 5, 3, 2, 6, 5, 7],\n",
    "    [1, 7, 5, 9, 7, 3, 1, 5],\n",
    "    [2, 6, 3, 5, 1, 7, 3, 2]\n",
    "])\n",
    "\n",
    "print(arr)\n",
    "task363(arr)\n",
    "print(arr)"
   ]
  },
  {
   "cell_type": "markdown",
   "metadata": {},
   "source": [
    "---\n",
    "\n",
    "## Задание 3 <<Матрицы>>\n",
    "\n",
    "Пусть дана матрица:\n",
    "\n",
    "```\n",
    "1 2 3 4 5 6 7 8\n",
    "8 7 6 5 4 3 2 1\n",
    "2 3 4 5 6 7 8 9\n",
    "9 8 7 6 5 4 3 2\n",
    "1 3 5 7 9 7 5 3\n",
    "3 1 5 3 2 6 5 7\n",
    "1 7 5 9 7 3 1 5\n",
    "2 6 3 5 1 7 3 2\n",
    "```\n",
    "\n",
    "**Вариант №7**. Определите структуру для хранения матрицы.\n",
    "\n",
    "**Пункт 3**. Напишите функцию, которая посчитает, сколько раз в матрице встречается число 3\n"
   ]
  },
  {
   "cell_type": "code",
   "execution_count": 14,
   "metadata": {},
   "outputs": [
    {
     "name": "stdout",
     "output_type": "stream",
     "text": [
      "[[1 2 3 4 5 6 7 8]\n",
      " [8 7 6 5 4 3 2 1]\n",
      " [2 3 4 5 6 7 8 9]\n",
      " [9 8 7 6 5 4 3 2]\n",
      " [1 3 5 7 9 7 5 3]\n",
      " [3 1 5 3 2 6 5 7]\n",
      " [1 7 5 9 7 3 1 5]\n",
      " [2 6 3 5 1 7 3 2]]\n",
      "11\n"
     ]
    }
   ],
   "source": [
    "import numpy\n",
    "\n",
    "def task373(arr):\n",
    "    sum = 0\n",
    "    for i in range(len(arr)):\n",
    "        for j in range(len(arr[i])):\n",
    "            if arr[i][j] == 3:\n",
    "                sum += 1\n",
    "    return sum\n",
    "\n",
    "arr = numpy.array([\n",
    "    [1, 2, 3, 4, 5, 6, 7, 8],\n",
    "    [8, 7, 6, 5, 4, 3, 2, 1],\n",
    "    [2, 3, 4, 5, 6, 7, 8, 9],\n",
    "    [9, 8, 7, 6, 5, 4, 3, 2],\n",
    "    [1, 3, 5, 7, 9, 7, 5, 3],\n",
    "    [3, 1, 5, 3, 2, 6, 5, 7],\n",
    "    [1, 7, 5, 9, 7, 3, 1, 5],\n",
    "    [2, 6, 3, 5, 1, 7, 3, 2]\n",
    "])\n",
    "\n",
    "print(arr)\n",
    "\n",
    "print(task373(arr))"
   ]
  },
  {
   "cell_type": "markdown",
   "metadata": {},
   "source": [
    "---\n",
    "\n",
    "## Задание 3 <<Матрицы>>\n",
    "\n",
    "Пусть дана матрица:\n",
    "\n",
    "```\n",
    "1 2 3 4 5 6 7 8\n",
    "8 7 6 5 4 3 2 1\n",
    "2 3 4 5 6 7 8 9\n",
    "9 8 7 6 5 4 3 2\n",
    "1 3 5 7 9 7 5 3\n",
    "3 1 5 3 2 6 5 7\n",
    "1 7 5 9 7 3 1 5\n",
    "2 6 3 5 1 7 3 2\n",
    "```\n",
    "\n",
    "**Вариант №8**. Определите структуру для хранения матрицы.\n",
    "\n",
    "**Пункт 1**. Пусть пользователь через консоль вводит два числа: первое - номер строки, второе - номер столбца. Напишите функцию, которая найдет число в данной позиции.\n"
   ]
  },
  {
   "cell_type": "code",
   "execution_count": 15,
   "metadata": {},
   "outputs": [
    {
     "name": "stdout",
     "output_type": "stream",
     "text": [
      "[[1 2 3 4 5 6 7 8]\n",
      " [8 7 6 5 4 3 2 1]\n",
      " [2 3 4 5 6 7 8 9]\n",
      " [9 8 7 6 5 4 3 2]\n",
      " [1 3 5 7 9 7 5 3]\n",
      " [3 1 5 3 2 6 5 7]\n",
      " [1 7 5 9 7 3 1 5]\n",
      " [2 6 3 5 1 7 3 2]]\n",
      "9\n",
      "6\n",
      "1\n",
      "2\n",
      "\n",
      "6\n",
      "0\n",
      "0\n"
     ]
    }
   ],
   "source": [
    "import numpy\n",
    "\n",
    "def task381(arr, i, j):\n",
    "    if i > len(arr):\n",
    "        return 0\n",
    "    elif j > len(arr[i]):\n",
    "        return 0\n",
    "    else:\n",
    "        return arr[i - 1][j - 1]\n",
    "\n",
    "arr = numpy.array([\n",
    "    [1, 2, 3, 4, 5, 6, 7, 8],\n",
    "    [8, 7, 6, 5, 4, 3, 2, 1],\n",
    "    [2, 3, 4, 5, 6, 7, 8, 9],\n",
    "    [9, 8, 7, 6, 5, 4, 3, 2],\n",
    "    [1, 3, 5, 7, 9, 7, 5, 3],\n",
    "    [3, 1, 5, 3, 2, 6, 5, 7],\n",
    "    [1, 7, 5, 9, 7, 3, 1, 5],\n",
    "    [2, 6, 3, 5, 1, 7, 3, 2]\n",
    "])\n",
    "\n",
    "print(arr)\n",
    "\n",
    "print(task381(arr, -3, -3))\n",
    "print(task381(arr, -2, -2))\n",
    "print(task381(arr, -1, -1))\n",
    "print(task381(arr, 0, 0))\n",
    "print()\n",
    "print(task381(arr, 4, 4))\n",
    "print(task381(arr, 40, 4))\n",
    "print(task381(arr, 4, 40))"
   ]
  },
  {
   "cell_type": "markdown",
   "metadata": {},
   "source": [
    "Вывод: \"\"."
   ]
  }
 ],
 "metadata": {
  "kernelspec": {
   "display_name": "Python 3",
   "language": "python",
   "name": "python3"
  },
  "language_info": {
   "codemirror_mode": {
    "name": "ipython",
    "version": 3
   },
   "file_extension": ".py",
   "mimetype": "text/x-python",
   "name": "python",
   "nbconvert_exporter": "python",
   "pygments_lexer": "ipython3",
   "version": "3.8.5"
  }
 },
 "nbformat": 4,
 "nbformat_minor": 4
}
